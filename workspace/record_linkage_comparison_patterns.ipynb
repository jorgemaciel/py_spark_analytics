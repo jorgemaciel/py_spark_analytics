{
 "cells": [
  {
   "cell_type": "markdown",
   "id": "0a878b4b-57cb-46bc-bff9-653ba66c6113",
   "metadata": {},
   "source": [
    "1. ### Title: Record Linkage Comparison Patterns \n",
    "\n",
    "2. Source Information\n",
    "   -- Underlying records: Epidemiologisches Krebsregister NRW\n",
    "      (http://www.krebsregister.nrw.de)\n",
    "   -- Creation of comparison patterns and gold standard classification:\n",
    "      Institute for Medical Biostatistics, Epidemiology and Informatics (IMBEI),\n",
    "      University Medical Center of Johannes Gutenberg University, Mainz, Germany\n",
    "      (http://www.imbei.uni-mainz.de) \n",
    "   -- Donor: Murat Sariyar, Andreas Borg (IMBEI)    \n",
    "   -- Date: September 2008\n",
    " \n",
    "3. Past Usage:\n",
    "    1. Irene Schmidtmann, Gael Hammer, Murat Sariyar, Aslihan Gerhold-Ay:\n",
    "       Evaluation des Krebsregisters NRW Schwerpunkt Record Linkage. Technical\n",
    "       Report, IMBEI 2009. \n",
    "       http://www.krebsregister.nrw.de/fileadmin/user_upload/dokumente/Evaluation/EKR_NRW_Evaluation_Abschlussbericht_2009-06-11.pdf\n",
    "       -- Describes the external evaluation of the registry's record linkage\n",
    "          procedures.\n",
    "       -- The comparison patterns in this data set were created in course of\n",
    "          this evaluation.\n",
    "           \n",
    "    2. Murat Sariyar, Andreas Borg, Klaus Pommerening: \n",
    "       Controlling false match rates in record linkage using extreme value theory.\n",
    "       Journal of Biomedical Informatics, 2011 (in press). \n",
    "       -- Predicted attribute: matching status (boolean).\n",
    "       -- Results:\n",
    "          -- A new approach for estimating the false match rate in record \n",
    "             linkage by methods of Extreme Value Theory (EVT).\n",
    "          -- The model eliminates the need for labelled training data while\n",
    "             achieving only slighter lower accuracy compared to a procedure\n",
    "             that has knowledge about the matching status.\n",
    "\n",
    "4. Relevant Information:\n",
    "\n",
    "  The records represent individual data including first and \n",
    "  family name, sex, date of birth and postal code, which were collected through \n",
    "  iterative insertions in the course of several years. The comparison\n",
    "  patterns in this data set are based on a sample of 100.000 records dating\n",
    "  from 2005 to 2008. Data pairs were classified as \"match\" or \"non-match\" during \n",
    "  an extensive manual review where several documentarists were involved. \n",
    "  The resulting classification formed the basis for assessing the quality of the \n",
    "  registry’s own record linkage procedure.\n",
    "  \n",
    "  In order to limit the amount of patterns a blocking procedure was applied,\n",
    "  which selects only record pairs that meet specific agreement conditions. The\n",
    "  results of the following six blocking iterations were merged together:\n",
    "  \n",
    "    1. Phonetic equality of first name and family name, equality of date of birth.\n",
    "    2. Phonetic equality of first name, equality of day of birth.\n",
    "    3. Phonetic equality of first name, equality of month of birth.\n",
    "    4. Phonetic equality of first name, equality of year of birth.\n",
    "    5. Equality of complete date of birth.\n",
    "    6. Phonetic equality of family name, equality of sex.\n",
    "    \n",
    "  This procedure resulted in 5.749.132 record pairs, of which 20.931 are matches.\n",
    "  \n",
    "  The data set is split into 10 blocks of (approximately) equal size and ratio\n",
    "  of matches to non-matches.\n",
    "\n",
    "  The separate file frequencies.csv contains for every predictive attribute \n",
    "  the average number of values in the underlying records. These values can, for example,\n",
    "  be used as u-probabilities in weight-based record linkage following the\n",
    "  framework of Fellegi and Sunter.\n",
    "   \n",
    "\n",
    "5. Number of Instances: 5.749.132\n",
    "\n",
    "6. Number of Attributes: 12 (9 predictive attributes, 2 non-predictive, \n",
    "                             1 goal field)\n",
    "\n",
    "7. Attribute Information:\n",
    "   1. id_1: Internal identifier of first record.\n",
    "   2. id_2: Internal identifier of second record.\n",
    "   3. cmp_fname_c1: agreement of first name, first component\n",
    "   4. cmp_fname_c2: agreement of first name, second component\n",
    "   5. cmp_lname_c1: agreement of family name, first component\n",
    "   6. cmp_lname_c2: agreement of family name, second component\n",
    "   7. cmp_sex: agreement sex\n",
    "   8. cmp_bd: agreement of date of birth, day component\n",
    "   9. cmp_bm: agreement of date of birth, month component\n",
    "   10. cmp_by: agreement of date of birth, year component\n",
    "   11. cmp_plz: agreement of postal code\n",
    "   12. is_match: matching status (TRUE for matches, FALSE for non-matches)\n",
    "\n",
    "8. Missing Attribute Values:  \n",
    "\n",
    "  cmp_fname_c1: 1007\n",
    "  cmp_fname_c2: 5645434\n",
    "  cmp_lname_c1: 0\n",
    "  cmp_lname_c2: 5746668\n",
    "  cmp_sex:      0\n",
    "  cmp_bd:       795\n",
    "  cmp_bm:       795\n",
    "  cmp_by:       795\n",
    "  cmp_plz:      12843\n",
    "\n",
    "\n",
    "9. Class Distribution: 20.931 matches, 5728201 non-matches\n"
   ]
  },
  {
   "cell_type": "code",
   "execution_count": 1,
   "id": "7dba5b04-ffa8-4fba-841f-fa977af142b5",
   "metadata": {},
   "outputs": [],
   "source": [
    "import pyspark\n",
    "from pyspark.sql import SparkSession"
   ]
  },
  {
   "cell_type": "code",
   "execution_count": 2,
   "id": "fa1ab045-7f91-4223-aef4-8f0b7704180e",
   "metadata": {},
   "outputs": [
    {
     "name": "stderr",
     "output_type": "stream",
     "text": [
      "/opt/spark/bin/load-spark-env.sh: line 68: ps: command not found\n"
     ]
    },
    {
     "name": "stdout",
     "output_type": "stream",
     "text": [
      ":: loading settings :: url = jar:file:/opt/spark/jars/ivy-2.5.1.jar!/org/apache/ivy/core/settings/ivysettings.xml\n"
     ]
    },
    {
     "name": "stderr",
     "output_type": "stream",
     "text": [
      "Ivy Default Cache set to: /root/.ivy2/cache\n",
      "The jars for the packages stored in: /root/.ivy2/jars\n",
      "software.amazon.awssdk#s3 added as a dependency\n",
      "org.apache.hadoop#hadoop-aws added as a dependency\n",
      ":: resolving dependencies :: org.apache.spark#spark-submit-parent-7649f1c2-ea0d-4a52-b85e-e793899dcb62;1.0\n",
      "\tconfs: [default]\n",
      "\tfound software.amazon.awssdk#s3;2.26.30 in central\n",
      "\tfound software.amazon.awssdk#aws-xml-protocol;2.26.30 in central\n",
      "\tfound software.amazon.awssdk#aws-query-protocol;2.26.30 in central\n",
      "\tfound software.amazon.awssdk#protocol-core;2.26.30 in central\n",
      "\tfound software.amazon.awssdk#sdk-core;2.26.30 in central\n",
      "\tfound software.amazon.awssdk#annotations;2.26.30 in central\n",
      "\tfound software.amazon.awssdk#http-client-spi;2.26.30 in central\n",
      "\tfound software.amazon.awssdk#utils;2.26.30 in central\n",
      "\tfound org.reactivestreams#reactive-streams;1.0.4 in central\n",
      "\tfound org.slf4j#slf4j-api;1.7.36 in central\n",
      "\tfound software.amazon.awssdk#metrics-spi;2.26.30 in central\n",
      "\tfound software.amazon.awssdk#endpoints-spi;2.26.30 in central\n",
      "\tfound software.amazon.awssdk#http-auth-spi;2.26.30 in central\n",
      "\tfound software.amazon.awssdk#identity-spi;2.26.30 in central\n",
      "\tfound software.amazon.awssdk#http-auth-aws;2.26.30 in central\n",
      "\tfound software.amazon.awssdk#checksums-spi;2.26.30 in central\n",
      "\tfound software.amazon.awssdk#checksums;2.26.30 in central\n",
      "\tfound software.amazon.awssdk#profiles;2.26.30 in central\n",
      "\tfound software.amazon.awssdk#retries-spi;2.26.30 in central\n",
      "\tfound software.amazon.awssdk#retries;2.26.30 in central\n",
      "\tfound software.amazon.awssdk#aws-core;2.26.30 in central\n",
      "\tfound software.amazon.awssdk#regions;2.26.30 in central\n",
      "\tfound software.amazon.awssdk#json-utils;2.26.30 in central\n",
      "\tfound software.amazon.awssdk#third-party-jackson-core;2.26.30 in central\n",
      "\tfound software.amazon.awssdk#auth;2.26.30 in central\n",
      "\tfound software.amazon.awssdk#http-auth-aws-eventstream;2.26.30 in central\n",
      "\tfound software.amazon.eventstream#eventstream;1.0.1 in central\n",
      "\tfound software.amazon.awssdk#http-auth;2.26.30 in central\n",
      "\tfound software.amazon.awssdk#arns;2.26.30 in central\n",
      "\tfound software.amazon.awssdk#crt-core;2.26.30 in central\n",
      "\tfound software.amazon.awssdk#apache-client;2.26.30 in central\n",
      "\tfound org.apache.httpcomponents#httpclient;4.5.13 in central\n",
      "\tfound org.apache.httpcomponents#httpcore;4.4.16 in central\n",
      "\tfound commons-logging#commons-logging;1.2 in central\n",
      "\tfound commons-codec#commons-codec;1.17.1 in central\n",
      "\tfound software.amazon.awssdk#netty-nio-client;2.26.30 in central\n",
      "\tfound io.netty#netty-codec-http;4.1.111.Final in central\n",
      "\tfound io.netty#netty-common;4.1.111.Final in central\n",
      "\tfound io.netty#netty-buffer;4.1.111.Final in central\n",
      "\tfound io.netty#netty-transport;4.1.111.Final in central\n",
      "\tfound io.netty#netty-resolver;4.1.111.Final in central\n",
      "\tfound io.netty#netty-codec;4.1.111.Final in central\n",
      "\tfound io.netty#netty-handler;4.1.111.Final in central\n",
      "\tfound io.netty#netty-transport-native-unix-common;4.1.111.Final in central\n",
      "\tfound io.netty#netty-codec-http2;4.1.111.Final in central\n",
      "\tfound io.netty#netty-transport-classes-epoll;4.1.111.Final in central\n",
      "\tfound org.apache.hadoop#hadoop-aws;3.3.4 in central\n",
      "\tfound com.amazonaws#aws-java-sdk-bundle;1.12.262 in central\n",
      "\tfound org.wildfly.openssl#wildfly-openssl;1.0.7.Final in central\n",
      ":: resolution report :: resolve 828ms :: artifacts dl 33ms\n",
      "\t:: modules in use:\n",
      "\tcom.amazonaws#aws-java-sdk-bundle;1.12.262 from central in [default]\n",
      "\tcommons-codec#commons-codec;1.17.1 from central in [default]\n",
      "\tcommons-logging#commons-logging;1.2 from central in [default]\n",
      "\tio.netty#netty-buffer;4.1.111.Final from central in [default]\n",
      "\tio.netty#netty-codec;4.1.111.Final from central in [default]\n",
      "\tio.netty#netty-codec-http;4.1.111.Final from central in [default]\n",
      "\tio.netty#netty-codec-http2;4.1.111.Final from central in [default]\n",
      "\tio.netty#netty-common;4.1.111.Final from central in [default]\n",
      "\tio.netty#netty-handler;4.1.111.Final from central in [default]\n",
      "\tio.netty#netty-resolver;4.1.111.Final from central in [default]\n",
      "\tio.netty#netty-transport;4.1.111.Final from central in [default]\n",
      "\tio.netty#netty-transport-classes-epoll;4.1.111.Final from central in [default]\n",
      "\tio.netty#netty-transport-native-unix-common;4.1.111.Final from central in [default]\n",
      "\torg.apache.hadoop#hadoop-aws;3.3.4 from central in [default]\n",
      "\torg.apache.httpcomponents#httpclient;4.5.13 from central in [default]\n",
      "\torg.apache.httpcomponents#httpcore;4.4.16 from central in [default]\n",
      "\torg.reactivestreams#reactive-streams;1.0.4 from central in [default]\n",
      "\torg.slf4j#slf4j-api;1.7.36 from central in [default]\n",
      "\torg.wildfly.openssl#wildfly-openssl;1.0.7.Final from central in [default]\n",
      "\tsoftware.amazon.awssdk#annotations;2.26.30 from central in [default]\n",
      "\tsoftware.amazon.awssdk#apache-client;2.26.30 from central in [default]\n",
      "\tsoftware.amazon.awssdk#arns;2.26.30 from central in [default]\n",
      "\tsoftware.amazon.awssdk#auth;2.26.30 from central in [default]\n",
      "\tsoftware.amazon.awssdk#aws-core;2.26.30 from central in [default]\n",
      "\tsoftware.amazon.awssdk#aws-query-protocol;2.26.30 from central in [default]\n",
      "\tsoftware.amazon.awssdk#aws-xml-protocol;2.26.30 from central in [default]\n",
      "\tsoftware.amazon.awssdk#checksums;2.26.30 from central in [default]\n",
      "\tsoftware.amazon.awssdk#checksums-spi;2.26.30 from central in [default]\n",
      "\tsoftware.amazon.awssdk#crt-core;2.26.30 from central in [default]\n",
      "\tsoftware.amazon.awssdk#endpoints-spi;2.26.30 from central in [default]\n",
      "\tsoftware.amazon.awssdk#http-auth;2.26.30 from central in [default]\n",
      "\tsoftware.amazon.awssdk#http-auth-aws;2.26.30 from central in [default]\n",
      "\tsoftware.amazon.awssdk#http-auth-aws-eventstream;2.26.30 from central in [default]\n",
      "\tsoftware.amazon.awssdk#http-auth-spi;2.26.30 from central in [default]\n",
      "\tsoftware.amazon.awssdk#http-client-spi;2.26.30 from central in [default]\n",
      "\tsoftware.amazon.awssdk#identity-spi;2.26.30 from central in [default]\n",
      "\tsoftware.amazon.awssdk#json-utils;2.26.30 from central in [default]\n",
      "\tsoftware.amazon.awssdk#metrics-spi;2.26.30 from central in [default]\n",
      "\tsoftware.amazon.awssdk#netty-nio-client;2.26.30 from central in [default]\n",
      "\tsoftware.amazon.awssdk#profiles;2.26.30 from central in [default]\n",
      "\tsoftware.amazon.awssdk#protocol-core;2.26.30 from central in [default]\n",
      "\tsoftware.amazon.awssdk#regions;2.26.30 from central in [default]\n",
      "\tsoftware.amazon.awssdk#retries;2.26.30 from central in [default]\n",
      "\tsoftware.amazon.awssdk#retries-spi;2.26.30 from central in [default]\n",
      "\tsoftware.amazon.awssdk#s3;2.26.30 from central in [default]\n",
      "\tsoftware.amazon.awssdk#sdk-core;2.26.30 from central in [default]\n",
      "\tsoftware.amazon.awssdk#third-party-jackson-core;2.26.30 from central in [default]\n",
      "\tsoftware.amazon.awssdk#utils;2.26.30 from central in [default]\n",
      "\tsoftware.amazon.eventstream#eventstream;1.0.1 from central in [default]\n",
      "\t---------------------------------------------------------------------\n",
      "\t|                  |            modules            ||   artifacts   |\n",
      "\t|       conf       | number| search|dwnlded|evicted|| number|dwnlded|\n",
      "\t---------------------------------------------------------------------\n",
      "\t|      default     |   49  |   0   |   0   |   0   ||   49  |   0   |\n",
      "\t---------------------------------------------------------------------\n",
      ":: retrieving :: org.apache.spark#spark-submit-parent-7649f1c2-ea0d-4a52-b85e-e793899dcb62\n",
      "\tconfs: [default]\n",
      "\t0 artifacts copied, 49 already retrieved (0kB/10ms)\n",
      "24/08/09 13:42:46 WARN NativeCodeLoader: Unable to load native-hadoop library for your platform... using builtin-java classes where applicable\n",
      "Setting default log level to \"WARN\".\n",
      "To adjust logging level use sc.setLogLevel(newLevel). For SparkR, use setLogLevel(newLevel).\n"
     ]
    }
   ],
   "source": [
    "spark = SparkSession.builder \\\n",
    "    .appName(\"Record linkage\") \\\n",
    "    .getOrCreate()"
   ]
  },
  {
   "cell_type": "code",
   "execution_count": 3,
   "id": "71d0b1e9-99fb-4c00-a122-0bcf65beee23",
   "metadata": {},
   "outputs": [],
   "source": [
    "# Lendo os arquivos csv que foram upados para o bucket raw na pasta donation"
   ]
  },
  {
   "cell_type": "code",
   "execution_count": 4,
   "id": "c92488ea-ba4c-40dd-81f7-6edf3d541eab",
   "metadata": {},
   "outputs": [
    {
     "name": "stderr",
     "output_type": "stream",
     "text": [
      "                                                                                \r"
     ]
    }
   ],
   "source": [
    "prev = spark.read.csv('s3a://raw/donation/block_*.csv')"
   ]
  },
  {
   "cell_type": "code",
   "execution_count": 5,
   "id": "c1e4ee9a-cce0-4794-904d-9ecfc431d0f4",
   "metadata": {},
   "outputs": [
    {
     "data": {
      "text/plain": [
       "DataFrame[_c0: string, _c1: string, _c2: string, _c3: string, _c4: string, _c5: string, _c6: string, _c7: string, _c8: string, _c9: string, _c10: string, _c11: string]"
      ]
     },
     "execution_count": 5,
     "metadata": {},
     "output_type": "execute_result"
    }
   ],
   "source": [
    "prev"
   ]
  },
  {
   "cell_type": "code",
   "execution_count": 6,
   "id": "81686167-167d-4e23-a9c8-0467abb66b18",
   "metadata": {},
   "outputs": [
    {
     "name": "stdout",
     "output_type": "stream",
     "text": [
      "+----+----+------------+------------+------------+------------+-------+------+------+------+-------+--------+\n",
      "| _c0| _c1|         _c2|         _c3|         _c4|         _c5|    _c6|   _c7|   _c8|   _c9|   _c10|    _c11|\n",
      "+----+----+------------+------------+------------+------------+-------+------+------+------+-------+--------+\n",
      "|id_1|id_2|cmp_fname_c1|cmp_fname_c2|cmp_lname_c1|cmp_lname_c2|cmp_sex|cmp_bd|cmp_bm|cmp_by|cmp_plz|is_match|\n",
      "|3148|8326|           1|           ?|           1|           ?|      1|     1|     1|     1|      1|    TRUE|\n",
      "+----+----+------------+------------+------------+------------+-------+------+------+------+-------+--------+\n",
      "only showing top 2 rows\n",
      "\n"
     ]
    }
   ],
   "source": [
    "prev.show(2)"
   ]
  },
  {
   "cell_type": "code",
   "execution_count": 7,
   "id": "616c5055-52c8-47d9-b6d2-942c3da0dff5",
   "metadata": {},
   "outputs": [
    {
     "name": "stderr",
     "output_type": "stream",
     "text": [
      "                                                                                \r"
     ]
    }
   ],
   "source": [
    "parsed = spark.read.option(\"header\", \"true\").option(\"nullValue\", \"?\").\\\n",
    "          option(\"inferSchema\", \"true\").csv('s3a://raw/donation/block_*.csv')"
   ]
  },
  {
   "cell_type": "code",
   "execution_count": 8,
   "id": "4ca78314-5ac0-45d8-9cea-e7a6dbebbcee",
   "metadata": {},
   "outputs": [
    {
     "name": "stdout",
     "output_type": "stream",
     "text": [
      "+-----+-----+------------+------------+------------+------------+-------+------+------+------+-------+--------+\n",
      "| id_1| id_2|cmp_fname_c1|cmp_fname_c2|cmp_lname_c1|cmp_lname_c2|cmp_sex|cmp_bd|cmp_bm|cmp_by|cmp_plz|is_match|\n",
      "+-----+-----+------------+------------+------------+------------+-------+------+------+------+-------+--------+\n",
      "| 3148| 8326|         1.0|        NULL|         1.0|        NULL|      1|     1|     1|     1|      1|    true|\n",
      "|14055|94934|         1.0|        NULL|         1.0|        NULL|      1|     1|     1|     1|      1|    true|\n",
      "|33948|34740|         1.0|        NULL|         1.0|        NULL|      1|     1|     1|     1|      1|    true|\n",
      "|  946|71870|         1.0|        NULL|         1.0|        NULL|      1|     1|     1|     1|      1|    true|\n",
      "|64880|71676|         1.0|        NULL|         1.0|        NULL|      1|     1|     1|     1|      1|    true|\n",
      "|25739|45991|         1.0|        NULL|         1.0|        NULL|      1|     1|     1|     1|      1|    true|\n",
      "|62415|93584|         1.0|        NULL|         1.0|        NULL|      1|     1|     1|     1|      0|    true|\n",
      "|27995|31399|         1.0|        NULL|         1.0|        NULL|      1|     1|     1|     1|      1|    true|\n",
      "| 4909|12238|         1.0|        NULL|         1.0|        NULL|      1|     1|     1|     1|      1|    true|\n",
      "|15161|16743|         1.0|        NULL|         1.0|        NULL|      1|     1|     1|     1|      1|    true|\n",
      "+-----+-----+------------+------------+------------+------------+-------+------+------+------+-------+--------+\n",
      "only showing top 10 rows\n",
      "\n"
     ]
    }
   ],
   "source": [
    "parsed.show(10)"
   ]
  },
  {
   "cell_type": "code",
   "execution_count": 9,
   "id": "86d6c5f9-9e00-4d00-b8c2-21716969aeff",
   "metadata": {},
   "outputs": [
    {
     "name": "stdout",
     "output_type": "stream",
     "text": [
      "root\n",
      " |-- id_1: integer (nullable = true)\n",
      " |-- id_2: integer (nullable = true)\n",
      " |-- cmp_fname_c1: double (nullable = true)\n",
      " |-- cmp_fname_c2: double (nullable = true)\n",
      " |-- cmp_lname_c1: double (nullable = true)\n",
      " |-- cmp_lname_c2: double (nullable = true)\n",
      " |-- cmp_sex: integer (nullable = true)\n",
      " |-- cmp_bd: integer (nullable = true)\n",
      " |-- cmp_bm: integer (nullable = true)\n",
      " |-- cmp_by: integer (nullable = true)\n",
      " |-- cmp_plz: integer (nullable = true)\n",
      " |-- is_match: boolean (nullable = true)\n",
      "\n"
     ]
    }
   ],
   "source": [
    "parsed.printSchema()"
   ]
  },
  {
   "cell_type": "code",
   "execution_count": 10,
   "id": "da734a37-335b-4160-a90c-4448ba3bfa0b",
   "metadata": {},
   "outputs": [
    {
     "name": "stderr",
     "output_type": "stream",
     "text": [
      "                                                                                \r"
     ]
    },
    {
     "data": {
      "text/plain": [
       "5749132"
      ]
     },
     "execution_count": 10,
     "metadata": {},
     "output_type": "execute_result"
    }
   ],
   "source": [
    "parsed.count()"
   ]
  },
  {
   "cell_type": "code",
   "execution_count": 11,
   "id": "5aa9e67a-8478-4464-9ae2-2f19ae561e52",
   "metadata": {},
   "outputs": [
    {
     "data": {
      "text/plain": [
       "DataFrame[id_1: int, id_2: int, cmp_fname_c1: double, cmp_fname_c2: double, cmp_lname_c1: double, cmp_lname_c2: double, cmp_sex: int, cmp_bd: int, cmp_bm: int, cmp_by: int, cmp_plz: int, is_match: boolean]"
      ]
     },
     "execution_count": 11,
     "metadata": {},
     "output_type": "execute_result"
    }
   ],
   "source": [
    "parsed.cache()"
   ]
  },
  {
   "cell_type": "code",
   "execution_count": 12,
   "id": "65c29df2-2759-47bf-8914-ad5ea2b79b09",
   "metadata": {},
   "outputs": [],
   "source": [
    "from pyspark.sql.functions import col"
   ]
  },
  {
   "cell_type": "code",
   "execution_count": 13,
   "id": "f93dddfe-e570-4ec4-bfb0-b48b33be2f0c",
   "metadata": {},
   "outputs": [
    {
     "name": "stderr",
     "output_type": "stream",
     "text": [
      "[Stage 8:===============================================>           (4 + 1) / 5]\r"
     ]
    },
    {
     "name": "stdout",
     "output_type": "stream",
     "text": [
      "+--------+-------+\n",
      "|is_match|  count|\n",
      "+--------+-------+\n",
      "|   false|5728201|\n",
      "|    true|  20931|\n",
      "+--------+-------+\n",
      "\n"
     ]
    },
    {
     "name": "stderr",
     "output_type": "stream",
     "text": [
      "                                                                                \r"
     ]
    }
   ],
   "source": [
    "parsed.groupBy('is_match').count().orderBy(col('count').desc()).show()"
   ]
  },
  {
   "cell_type": "code",
   "execution_count": 14,
   "id": "47e62586-1f31-4974-a9bc-43244d108602",
   "metadata": {},
   "outputs": [],
   "source": [
    "from pyspark.sql.functions import avg, stddev"
   ]
  },
  {
   "cell_type": "code",
   "execution_count": 15,
   "id": "d0837a3f-9a13-4097-aeb7-8093b6ef35b9",
   "metadata": {},
   "outputs": [
    {
     "name": "stdout",
     "output_type": "stream",
     "text": [
      "+-----------------+------------------+\n",
      "|     avg(cmp_sex)|   stddev(cmp_sex)|\n",
      "+-----------------+------------------+\n",
      "|0.955001381078048|0.2073011111689795|\n",
      "+-----------------+------------------+\n",
      "\n"
     ]
    }
   ],
   "source": [
    "parsed.agg(avg('cmp_sex'),stddev('cmp_sex')).show()"
   ]
  },
  {
   "cell_type": "code",
   "execution_count": 16,
   "id": "0ce332c3-407d-43ba-ae87-ded502b72b5f",
   "metadata": {},
   "outputs": [],
   "source": [
    "parsed.createOrReplaceTempView('linkage')"
   ]
  },
  {
   "cell_type": "code",
   "execution_count": 17,
   "id": "63f2c0a0-2023-4d4d-931c-7e04337d4eb4",
   "metadata": {},
   "outputs": [
    {
     "name": "stdout",
     "output_type": "stream",
     "text": [
      "+--------+-------+\n",
      "|is_match|    cnt|\n",
      "+--------+-------+\n",
      "|   false|5728201|\n",
      "|    true|  20931|\n",
      "+--------+-------+\n",
      "\n"
     ]
    }
   ],
   "source": [
    "spark.sql(\"\"\"\n",
    "    SELECT is_match, COUNT(*) cnt \n",
    "    FROM linkage \n",
    "    GROUP BY is_match \n",
    "    ORDER BY cnt DESC\n",
    "\"\"\").show()"
   ]
  },
  {
   "cell_type": "code",
   "execution_count": 18,
   "id": "eede689a-28d6-4f91-9004-6f9bc9802fca",
   "metadata": {},
   "outputs": [],
   "source": [
    "summary = parsed.describe()"
   ]
  },
  {
   "cell_type": "code",
   "execution_count": 19,
   "id": "bc05d98b-7d40-4aa7-a19a-413c509b81dc",
   "metadata": {},
   "outputs": [
    {
     "name": "stderr",
     "output_type": "stream",
     "text": [
      "24/08/09 13:43:39 WARN SparkStringUtils: Truncated the string representation of a plan since it was too large. This behavior can be adjusted by setting 'spark.sql.debug.maxToStringFields'.\n",
      "[Stage 18:==============================================>           (4 + 1) / 5]\r"
     ]
    },
    {
     "name": "stdout",
     "output_type": "stream",
     "text": [
      "+-------+------------------+------------------+------------------+------------------+------------------+-------------------+------------------+-------------------+-------------------+-------------------+-------------------+\n",
      "|summary|              id_1|              id_2|      cmp_fname_c1|      cmp_fname_c2|      cmp_lname_c1|       cmp_lname_c2|           cmp_sex|             cmp_bd|             cmp_bm|             cmp_by|            cmp_plz|\n",
      "+-------+------------------+------------------+------------------+------------------+------------------+-------------------+------------------+-------------------+-------------------+-------------------+-------------------+\n",
      "|  count|           5749132|           5749132|           5748125|            103698|           5749132|               2464|           5749132|            5748337|            5748337|            5748337|            5736289|\n",
      "|   mean| 33324.48559643438| 66587.43558331935|0.7129024704436274|0.9000176718903216|0.3156278193084133|0.31841283153174377| 0.955001381078048|0.22446526708507172|0.48885529849763504| 0.2227485966810923|0.00552866147434343|\n",
      "| stddev|23659.859374488213|23620.487613269885|0.3887583596162788|0.2713176105782331|0.3342336339615816|0.36856706620066537|0.2073011111689795| 0.4172297223846255| 0.4998758236779038|0.41609096298317344|0.07414914925420066|\n",
      "|    min|                 1|                 6|               0.0|               0.0|               0.0|                0.0|                 0|                  0|                  0|                  0|                  0|\n",
      "|    max|             99980|            100000|               1.0|               1.0|               1.0|                1.0|                 1|                  1|                  1|                  1|                  1|\n",
      "+-------+------------------+------------------+------------------+------------------+------------------+-------------------+------------------+-------------------+-------------------+-------------------+-------------------+\n",
      "\n"
     ]
    },
    {
     "name": "stderr",
     "output_type": "stream",
     "text": [
      "                                                                                \r"
     ]
    }
   ],
   "source": [
    "summary.show()"
   ]
  },
  {
   "cell_type": "code",
   "execution_count": 20,
   "id": "546070a4-c779-4e87-b617-3c7df88b296c",
   "metadata": {},
   "outputs": [
    {
     "name": "stdout",
     "output_type": "stream",
     "text": [
      "+-------+------------------+------------------+\n",
      "|summary|      cmp_fname_c1|      cmp_fname_c2|\n",
      "+-------+------------------+------------------+\n",
      "|  count|           5748125|            103698|\n",
      "|   mean|0.7129024704436274|0.9000176718903216|\n",
      "| stddev|0.3887583596162788|0.2713176105782331|\n",
      "|    min|               0.0|               0.0|\n",
      "|    max|               1.0|               1.0|\n",
      "+-------+------------------+------------------+\n",
      "\n"
     ]
    },
    {
     "name": "stderr",
     "output_type": "stream",
     "text": [
      "                                                                                \r"
     ]
    }
   ],
   "source": [
    "summary.select(\"summary\", \"cmp_fname_c1\", \"cmp_fname_c2\").show()"
   ]
  },
  {
   "cell_type": "code",
   "execution_count": 21,
   "id": "2bfa0146-3579-4738-b050-33ffb170ebfc",
   "metadata": {},
   "outputs": [
    {
     "name": "stdout",
     "output_type": "stream",
     "text": [
      "+-------+------------------+-----------------+--------------------+-------------------+-------------------+-------------------+-------------------+-------------------+-------------------+--------------------+-------------------+\n",
      "|summary|              id_1|             id_2|        cmp_fname_c1|       cmp_fname_c2|       cmp_lname_c1|       cmp_lname_c2|            cmp_sex|             cmp_bd|             cmp_bm|              cmp_by|            cmp_plz|\n",
      "+-------+------------------+-----------------+--------------------+-------------------+-------------------+-------------------+-------------------+-------------------+-------------------+--------------------+-------------------+\n",
      "|  count|             20931|            20931|               20922|               1333|              20931|                475|              20931|              20925|              20925|               20925|              20902|\n",
      "|   mean| 34575.72117911232|51259.95939037791|  0.9973163859635038| 0.9898900320318174| 0.9970152595958817|  0.969370167843852|  0.987291577086618| 0.9970848267622461| 0.9979450418160095|  0.9961290322580645| 0.9584250310975027|\n",
      "| stddev|21950.312851969127| 24345.7334537752|0.036506675848336785|0.08251973727615237|0.04311880753394512|0.15345280740388917|0.11201570591216432|0.05391487659807977|0.04528612745217063|0.062098048567310576|0.19962063345931927|\n",
      "|    min|                 5|                6|                 0.0|                0.0|                0.0|                0.0|                  0|                  0|                  0|                   0|                  0|\n",
      "|    max|             99946|            99996|                 1.0|                1.0|                1.0|                1.0|                  1|                  1|                  1|                   1|                  1|\n",
      "+-------+------------------+-----------------+--------------------+-------------------+-------------------+-------------------+-------------------+-------------------+-------------------+--------------------+-------------------+\n",
      "\n"
     ]
    },
    {
     "name": "stderr",
     "output_type": "stream",
     "text": [
      "                                                                                \r"
     ]
    }
   ],
   "source": [
    "matches = parsed.where('is_match = true')\n",
    "match_summary = matches.describe().show(5)"
   ]
  },
  {
   "cell_type": "code",
   "execution_count": 22,
   "id": "2bbb54bb-c759-4b3b-945e-5e5d2a4f969e",
   "metadata": {},
   "outputs": [],
   "source": [
    "misses = parsed.filter(col('is_match') == False)\n",
    "miss_summary = misses.describe()"
   ]
  },
  {
   "cell_type": "code",
   "execution_count": 23,
   "id": "ba64ecbe-1f77-41cb-97ac-e1b55319d402",
   "metadata": {},
   "outputs": [
    {
     "name": "stdout",
     "output_type": "stream",
     "text": [
      "Requirement already satisfied: pyarrow in /usr/local/lib/python3.11/site-packages (17.0.0)\n",
      "Requirement already satisfied: numpy>=1.16.6 in /usr/local/lib/python3.11/site-packages (from pyarrow) (2.0.1)\n",
      "\u001b[33mWARNING: Running pip as the 'root' user can result in broken permissions and conflicting behaviour with the system package manager. It is recommended to use a virtual environment instead: https://pip.pypa.io/warnings/venv\u001b[0m\u001b[33m\n",
      "\u001b[0m\n",
      "\u001b[1m[\u001b[0m\u001b[34;49mnotice\u001b[0m\u001b[1;39;49m]\u001b[0m\u001b[39;49m A new release of pip is available: \u001b[0m\u001b[31;49m24.0\u001b[0m\u001b[39;49m -> \u001b[0m\u001b[32;49m24.2\u001b[0m\n",
      "\u001b[1m[\u001b[0m\u001b[34;49mnotice\u001b[0m\u001b[1;39;49m]\u001b[0m\u001b[39;49m To update, run: \u001b[0m\u001b[32;49mpip3 install --upgrade pip\u001b[0m\n",
      "Note: you may need to restart the kernel to use updated packages.\n"
     ]
    }
   ],
   "source": [
    "%pip install pyarrow"
   ]
  },
  {
   "cell_type": "code",
   "execution_count": 24,
   "id": "a8836bc4-3216-4e2f-8897-598bbe02beb3",
   "metadata": {},
   "outputs": [
    {
     "name": "stdout",
     "output_type": "stream",
     "text": [
      "Requirement already satisfied: pandas in /usr/local/lib/python3.11/site-packages (2.2.2)\n",
      "Requirement already satisfied: numpy>=1.23.2 in /usr/local/lib/python3.11/site-packages (from pandas) (2.0.1)\n",
      "Requirement already satisfied: python-dateutil>=2.8.2 in /usr/local/lib/python3.11/site-packages (from pandas) (2.9.0.post0)\n",
      "Requirement already satisfied: pytz>=2020.1 in /usr/local/lib/python3.11/site-packages (from pandas) (2024.1)\n",
      "Requirement already satisfied: tzdata>=2022.7 in /usr/local/lib/python3.11/site-packages (from pandas) (2024.1)\n",
      "Requirement already satisfied: six>=1.5 in /usr/local/lib/python3.11/site-packages (from python-dateutil>=2.8.2->pandas) (1.16.0)\n",
      "\u001b[33mWARNING: Running pip as the 'root' user can result in broken permissions and conflicting behaviour with the system package manager. It is recommended to use a virtual environment instead: https://pip.pypa.io/warnings/venv\u001b[0m\u001b[33m\n",
      "\u001b[0m\n",
      "\u001b[1m[\u001b[0m\u001b[34;49mnotice\u001b[0m\u001b[1;39;49m]\u001b[0m\u001b[39;49m A new release of pip is available: \u001b[0m\u001b[31;49m24.0\u001b[0m\u001b[39;49m -> \u001b[0m\u001b[32;49m24.2\u001b[0m\n",
      "\u001b[1m[\u001b[0m\u001b[34;49mnotice\u001b[0m\u001b[1;39;49m]\u001b[0m\u001b[39;49m To update, run: \u001b[0m\u001b[32;49mpip3 install --upgrade pip\u001b[0m\n",
      "Note: you may need to restart the kernel to use updated packages.\n"
     ]
    }
   ],
   "source": [
    "%pip install pandas"
   ]
  },
  {
   "cell_type": "code",
   "execution_count": 25,
   "id": "bb5f097e-9175-4c18-af76-1adef2d7dcf7",
   "metadata": {},
   "outputs": [
    {
     "name": "stderr",
     "output_type": "stream",
     "text": [
      "                                                                                \r"
     ]
    }
   ],
   "source": [
    "summary_p = summary.toPandas()"
   ]
  },
  {
   "cell_type": "code",
   "execution_count": 26,
   "id": "57aeaed9-779f-483e-8ce5-dd653d0a149b",
   "metadata": {},
   "outputs": [
    {
     "data": {
      "text/html": [
       "<div>\n",
       "<style scoped>\n",
       "    .dataframe tbody tr th:only-of-type {\n",
       "        vertical-align: middle;\n",
       "    }\n",
       "\n",
       "    .dataframe tbody tr th {\n",
       "        vertical-align: top;\n",
       "    }\n",
       "\n",
       "    .dataframe thead th {\n",
       "        text-align: right;\n",
       "    }\n",
       "</style>\n",
       "<table border=\"1\" class=\"dataframe\">\n",
       "  <thead>\n",
       "    <tr style=\"text-align: right;\">\n",
       "      <th></th>\n",
       "      <th>summary</th>\n",
       "      <th>id_1</th>\n",
       "      <th>id_2</th>\n",
       "      <th>cmp_fname_c1</th>\n",
       "      <th>cmp_fname_c2</th>\n",
       "      <th>cmp_lname_c1</th>\n",
       "      <th>cmp_lname_c2</th>\n",
       "      <th>cmp_sex</th>\n",
       "      <th>cmp_bd</th>\n",
       "      <th>cmp_bm</th>\n",
       "      <th>cmp_by</th>\n",
       "      <th>cmp_plz</th>\n",
       "    </tr>\n",
       "  </thead>\n",
       "  <tbody>\n",
       "    <tr>\n",
       "      <th>0</th>\n",
       "      <td>count</td>\n",
       "      <td>5749132</td>\n",
       "      <td>5749132</td>\n",
       "      <td>5748125</td>\n",
       "      <td>103698</td>\n",
       "      <td>5749132</td>\n",
       "      <td>2464</td>\n",
       "      <td>5749132</td>\n",
       "      <td>5748337</td>\n",
       "      <td>5748337</td>\n",
       "      <td>5748337</td>\n",
       "      <td>5736289</td>\n",
       "    </tr>\n",
       "    <tr>\n",
       "      <th>1</th>\n",
       "      <td>mean</td>\n",
       "      <td>33324.48559643438</td>\n",
       "      <td>66587.43558331935</td>\n",
       "      <td>0.7129024704436274</td>\n",
       "      <td>0.9000176718903216</td>\n",
       "      <td>0.3156278193084133</td>\n",
       "      <td>0.31841283153174377</td>\n",
       "      <td>0.955001381078048</td>\n",
       "      <td>0.22446526708507172</td>\n",
       "      <td>0.48885529849763504</td>\n",
       "      <td>0.2227485966810923</td>\n",
       "      <td>0.00552866147434343</td>\n",
       "    </tr>\n",
       "    <tr>\n",
       "      <th>2</th>\n",
       "      <td>stddev</td>\n",
       "      <td>23659.859374488213</td>\n",
       "      <td>23620.487613269885</td>\n",
       "      <td>0.3887583596162788</td>\n",
       "      <td>0.2713176105782331</td>\n",
       "      <td>0.3342336339615816</td>\n",
       "      <td>0.36856706620066537</td>\n",
       "      <td>0.2073011111689795</td>\n",
       "      <td>0.4172297223846255</td>\n",
       "      <td>0.4998758236779038</td>\n",
       "      <td>0.41609096298317344</td>\n",
       "      <td>0.07414914925420066</td>\n",
       "    </tr>\n",
       "    <tr>\n",
       "      <th>3</th>\n",
       "      <td>min</td>\n",
       "      <td>1</td>\n",
       "      <td>6</td>\n",
       "      <td>0.0</td>\n",
       "      <td>0.0</td>\n",
       "      <td>0.0</td>\n",
       "      <td>0.0</td>\n",
       "      <td>0</td>\n",
       "      <td>0</td>\n",
       "      <td>0</td>\n",
       "      <td>0</td>\n",
       "      <td>0</td>\n",
       "    </tr>\n",
       "    <tr>\n",
       "      <th>4</th>\n",
       "      <td>max</td>\n",
       "      <td>99980</td>\n",
       "      <td>100000</td>\n",
       "      <td>1.0</td>\n",
       "      <td>1.0</td>\n",
       "      <td>1.0</td>\n",
       "      <td>1.0</td>\n",
       "      <td>1</td>\n",
       "      <td>1</td>\n",
       "      <td>1</td>\n",
       "      <td>1</td>\n",
       "      <td>1</td>\n",
       "    </tr>\n",
       "  </tbody>\n",
       "</table>\n",
       "</div>"
      ],
      "text/plain": [
       "  summary                id_1                id_2        cmp_fname_c1  \\\n",
       "0   count             5749132             5749132             5748125   \n",
       "1    mean   33324.48559643438   66587.43558331935  0.7129024704436274   \n",
       "2  stddev  23659.859374488213  23620.487613269885  0.3887583596162788   \n",
       "3     min                   1                   6                 0.0   \n",
       "4     max               99980              100000                 1.0   \n",
       "\n",
       "         cmp_fname_c2        cmp_lname_c1         cmp_lname_c2  \\\n",
       "0              103698             5749132                 2464   \n",
       "1  0.9000176718903216  0.3156278193084133  0.31841283153174377   \n",
       "2  0.2713176105782331  0.3342336339615816  0.36856706620066537   \n",
       "3                 0.0                 0.0                  0.0   \n",
       "4                 1.0                 1.0                  1.0   \n",
       "\n",
       "              cmp_sex               cmp_bd               cmp_bm  \\\n",
       "0             5749132              5748337              5748337   \n",
       "1   0.955001381078048  0.22446526708507172  0.48885529849763504   \n",
       "2  0.2073011111689795   0.4172297223846255   0.4998758236779038   \n",
       "3                   0                    0                    0   \n",
       "4                   1                    1                    1   \n",
       "\n",
       "                cmp_by              cmp_plz  \n",
       "0              5748337              5736289  \n",
       "1   0.2227485966810923  0.00552866147434343  \n",
       "2  0.41609096298317344  0.07414914925420066  \n",
       "3                    0                    0  \n",
       "4                    1                    1  "
      ]
     },
     "execution_count": 26,
     "metadata": {},
     "output_type": "execute_result"
    }
   ],
   "source": [
    "summary_p.head()"
   ]
  },
  {
   "cell_type": "code",
   "execution_count": 27,
   "id": "685ca2b3-322d-437e-8771-f883aff78a94",
   "metadata": {},
   "outputs": [
    {
     "data": {
      "text/plain": [
       "(5, 12)"
      ]
     },
     "execution_count": 27,
     "metadata": {},
     "output_type": "execute_result"
    }
   ],
   "source": [
    "summary_p.shape"
   ]
  },
  {
   "cell_type": "code",
   "execution_count": 28,
   "id": "7fd306cc-017f-46a7-8cd6-631a1d2c6c51",
   "metadata": {},
   "outputs": [],
   "source": [
    "summary_p = summary_p.set_index('summary').transpose().reset_index()"
   ]
  },
  {
   "cell_type": "code",
   "execution_count": 29,
   "id": "bb2ff899-ee38-4d3f-9dd8-a557d10a1e77",
   "metadata": {},
   "outputs": [],
   "source": [
    "summary_p = summary_p.rename(columns={'index':'field'})"
   ]
  },
  {
   "cell_type": "code",
   "execution_count": 30,
   "id": "537edc63-40e1-4c65-ab25-5bdb5aa4414b",
   "metadata": {},
   "outputs": [],
   "source": [
    "summary_p = summary_p.rename_axis(None, axis=1)"
   ]
  },
  {
   "cell_type": "code",
   "execution_count": 31,
   "id": "817645e5-f9e1-48f2-a0c9-62d54bf56300",
   "metadata": {},
   "outputs": [
    {
     "data": {
      "text/plain": [
       "(11, 6)"
      ]
     },
     "execution_count": 31,
     "metadata": {},
     "output_type": "execute_result"
    }
   ],
   "source": [
    "summary_p.shape"
   ]
  },
  {
   "cell_type": "code",
   "execution_count": 32,
   "id": "fa241d3c-3117-4787-b6b1-1b63740d9193",
   "metadata": {},
   "outputs": [],
   "source": [
    "summary_T = spark.createDataFrame(summary_p)"
   ]
  },
  {
   "cell_type": "code",
   "execution_count": 33,
   "id": "5c1e2035-eb73-4c9f-b236-5e3cc2ebf607",
   "metadata": {},
   "outputs": [
    {
     "name": "stdout",
     "output_type": "stream",
     "text": [
      "+------------+-------+-------------------+-------------------+---+------+\n",
      "|       field|  count|               mean|             stddev|min|   max|\n",
      "+------------+-------+-------------------+-------------------+---+------+\n",
      "|        id_1|5749132|  33324.48559643438| 23659.859374488213|  1| 99980|\n",
      "|        id_2|5749132|  66587.43558331935| 23620.487613269885|  6|100000|\n",
      "|cmp_fname_c1|5748125| 0.7129024704436274| 0.3887583596162788|0.0|   1.0|\n",
      "|cmp_fname_c2| 103698| 0.9000176718903216| 0.2713176105782331|0.0|   1.0|\n",
      "|cmp_lname_c1|5749132| 0.3156278193084133| 0.3342336339615816|0.0|   1.0|\n",
      "|cmp_lname_c2|   2464|0.31841283153174377|0.36856706620066537|0.0|   1.0|\n",
      "|     cmp_sex|5749132|  0.955001381078048| 0.2073011111689795|  0|     1|\n",
      "|      cmp_bd|5748337|0.22446526708507172| 0.4172297223846255|  0|     1|\n",
      "|      cmp_bm|5748337|0.48885529849763504| 0.4998758236779038|  0|     1|\n",
      "|      cmp_by|5748337| 0.2227485966810923|0.41609096298317344|  0|     1|\n",
      "|     cmp_plz|5736289|0.00552866147434343|0.07414914925420066|  0|     1|\n",
      "+------------+-------+-------------------+-------------------+---+------+\n",
      "\n"
     ]
    }
   ],
   "source": [
    "summary_T.show()"
   ]
  },
  {
   "cell_type": "code",
   "execution_count": 34,
   "id": "1411b4e1-a37b-4565-9572-856e9fc107aa",
   "metadata": {},
   "outputs": [
    {
     "name": "stdout",
     "output_type": "stream",
     "text": [
      "root\n",
      " |-- field: string (nullable = true)\n",
      " |-- count: string (nullable = true)\n",
      " |-- mean: string (nullable = true)\n",
      " |-- stddev: string (nullable = true)\n",
      " |-- min: string (nullable = true)\n",
      " |-- max: string (nullable = true)\n",
      "\n"
     ]
    }
   ],
   "source": [
    "summary_T.printSchema()"
   ]
  },
  {
   "cell_type": "code",
   "execution_count": 35,
   "id": "e1bc132c-44e2-4628-a23b-5244d7420794",
   "metadata": {},
   "outputs": [],
   "source": [
    "from pyspark.sql import DataFrame\n",
    "from pyspark.sql.types import DoubleType"
   ]
  },
  {
   "cell_type": "code",
   "execution_count": 36,
   "id": "0960d501-7ebb-46ad-9586-21c531017970",
   "metadata": {},
   "outputs": [],
   "source": [
    "def pivot_summary(desc):\n",
    "    # converte para pandas DataFrame\n",
    "    desc_p = desc.toPandas()\n",
    "    # transpose\n",
    "    desc_p = desc_p.set_index('summary').transpose().reset_index()\n",
    "    desc_p = desc_p.rename(columns={'index':'field'})\n",
    "    desc_p = desc_p.rename_axis(None, axis=1)\n",
    "    # converter para Spark DataFrame\n",
    "    descT = spark.createDataFrame(desc_p)\n",
    "    for c in descT.columns:\n",
    "        if c == 'field':\n",
    "            continue\n",
    "        else:\n",
    "            descT = descT.withColumn(c, descT[c].cast(DoubleType()))\n",
    "    return descT"
   ]
  },
  {
   "cell_type": "code",
   "execution_count": 37,
   "id": "c51dcd8d-56de-48d9-b737-ba9085b4d92b",
   "metadata": {},
   "outputs": [],
   "source": [
    "match_summary = matches.describe()"
   ]
  },
  {
   "cell_type": "code",
   "execution_count": 38,
   "id": "db5b035d-8599-45a9-9676-25581f908e4f",
   "metadata": {},
   "outputs": [
    {
     "name": "stderr",
     "output_type": "stream",
     "text": [
      "                                                                                \r"
     ]
    }
   ],
   "source": [
    "match_summaryT = pivot_summary(match_summary)\n",
    "miss_summaryT = pivot_summary(miss_summary)"
   ]
  },
  {
   "cell_type": "code",
   "execution_count": 39,
   "id": "17818304-bb42-461b-9217-25826ac740f6",
   "metadata": {},
   "outputs": [
    {
     "name": "stdout",
     "output_type": "stream",
     "text": [
      "+------------+-------+------------------+--------------------+---+-------+\n",
      "|       field|  count|              mean|              stddev|min|    max|\n",
      "+------------+-------+------------------+--------------------+---+-------+\n",
      "|        id_1|20931.0| 34575.72117911232|  21950.312851969127|5.0|99946.0|\n",
      "|        id_2|20931.0| 51259.95939037791|    24345.7334537752|6.0|99996.0|\n",
      "|cmp_fname_c1|20922.0|0.9973163859635038|0.036506675848336785|0.0|    1.0|\n",
      "|cmp_fname_c2| 1333.0|0.9898900320318174| 0.08251973727615237|0.0|    1.0|\n",
      "|cmp_lname_c1|20931.0|0.9970152595958817| 0.04311880753394512|0.0|    1.0|\n",
      "|cmp_lname_c2|  475.0| 0.969370167843852| 0.15345280740388917|0.0|    1.0|\n",
      "|     cmp_sex|20931.0| 0.987291577086618| 0.11201570591216432|0.0|    1.0|\n",
      "|      cmp_bd|20925.0|0.9970848267622461| 0.05391487659807977|0.0|    1.0|\n",
      "|      cmp_bm|20925.0|0.9979450418160095| 0.04528612745217063|0.0|    1.0|\n",
      "|      cmp_by|20925.0|0.9961290322580645|0.062098048567310576|0.0|    1.0|\n",
      "|     cmp_plz|20902.0|0.9584250310975027| 0.19962063345931927|0.0|    1.0|\n",
      "+------------+-------+------------------+--------------------+---+-------+\n",
      "\n"
     ]
    }
   ],
   "source": [
    "match_summaryT.show()"
   ]
  },
  {
   "cell_type": "code",
   "execution_count": 40,
   "id": "0d424823-44bf-4228-9925-b7073836d0f7",
   "metadata": {},
   "outputs": [
    {
     "name": "stdout",
     "output_type": "stream",
     "text": [
      "+------------+---------+--------------------+-------------------+----+--------+\n",
      "|       field|    count|                mean|             stddev| min|     max|\n",
      "+------------+---------+--------------------+-------------------+----+--------+\n",
      "|        id_1|5728201.0|  33319.913548075565| 23665.760130330764| 1.0| 99980.0|\n",
      "|        id_2|5728201.0|   66643.44259218557| 23599.551728241124|30.0|100000.0|\n",
      "|cmp_fname_c1|5727203.0|  0.7118634802174252|0.38908060096985714| 0.0|     1.0|\n",
      "|cmp_fname_c2| 102365.0|  0.8988473514090173| 0.2727209029401023| 0.0|     1.0|\n",
      "|cmp_lname_c1|5728201.0| 0.31313801133682906| 0.3322812130572706| 0.0|     1.0|\n",
      "|cmp_lname_c2|   1989.0| 0.16295544855122554|0.19302366635287027| 0.0|     1.0|\n",
      "|     cmp_sex|5728201.0|  0.9548833918362851|0.20755988859217656| 0.0|     1.0|\n",
      "|      cmp_bd|5727412.0|  0.2216425149788421| 0.4153518275558737| 0.0|     1.0|\n",
      "|      cmp_bm|5727412.0|   0.486995347986141|   0.49983089404939| 0.0|     1.0|\n",
      "|      cmp_by|5727412.0|  0.2199230647280133|0.41419432671429335| 0.0|     1.0|\n",
      "|     cmp_plz|5715387.0|0.002043781112285135|0.04516197989362504| 0.0|     1.0|\n",
      "+------------+---------+--------------------+-------------------+----+--------+\n",
      "\n"
     ]
    }
   ],
   "source": [
    "miss_summaryT.show()"
   ]
  },
  {
   "cell_type": "code",
   "execution_count": 41,
   "id": "9769ef1c-4231-472f-8b66-2cc608b5dae1",
   "metadata": {},
   "outputs": [
    {
     "name": "stdout",
     "output_type": "stream",
     "text": [
      "+------------+---------+--------------------+\n",
      "|       field|    total|               delta|\n",
      "+------------+---------+--------------------+\n",
      "|     cmp_plz|5736289.0|  0.9563812499852176|\n",
      "|cmp_lname_c2|   2464.0|  0.8064147192926264|\n",
      "|      cmp_by|5748337.0|  0.7762059675300512|\n",
      "|      cmp_bd|5748337.0|   0.775442311783404|\n",
      "|cmp_lname_c1|5749132.0|  0.6838772482590526|\n",
      "|      cmp_bm|5748337.0|  0.5109496938298685|\n",
      "|cmp_fname_c1|5748125.0|  0.2854529057460786|\n",
      "|cmp_fname_c2| 103698.0| 0.09104268062280008|\n",
      "|     cmp_sex|5749132.0|0.032408185250332844|\n",
      "+------------+---------+--------------------+\n",
      "\n"
     ]
    }
   ],
   "source": [
    "match_summaryT.createOrReplaceTempView('match_desc')\n",
    "miss_summaryT.createOrReplaceTempView('miss_desc')\n",
    "spark.sql(\"\"\"\n",
    "    SELECT a.field, a.count + b.count total, a.mean - b.mean delta\n",
    "    FROM match_desc a INNER JOIN miss_desc b ON a.field = b.field\n",
    "    WHERE a.field NOT IN (\"id_1\", \"id_2\")\n",
    "    ORDER BY delta DESC, total DESC\n",
    "\"\"\").show()"
   ]
  },
  {
   "cell_type": "code",
   "execution_count": 42,
   "id": "0e38e93b-e4bd-43af-9f7f-0bfa16dfcc63",
   "metadata": {},
   "outputs": [],
   "source": [
    "good_features = [\"cmp_lname_c1\", \"cmp_plz\", \"cmp_by\", \"cmp_bd\", \"cmp_bm\"]"
   ]
  },
  {
   "cell_type": "code",
   "execution_count": 43,
   "id": "dd971479-f117-49a2-8467-db1d9e498a67",
   "metadata": {},
   "outputs": [],
   "source": [
    "sum_expression = \" + \".join(good_features)"
   ]
  },
  {
   "cell_type": "code",
   "execution_count": 44,
   "id": "5c319191-dec4-41b5-86bf-7d23f6519ba3",
   "metadata": {},
   "outputs": [
    {
     "data": {
      "text/plain": [
       "'cmp_lname_c1 + cmp_plz + cmp_by + cmp_bd + cmp_bm'"
      ]
     },
     "execution_count": 44,
     "metadata": {},
     "output_type": "execute_result"
    }
   ],
   "source": [
    "sum_expression"
   ]
  },
  {
   "cell_type": "code",
   "execution_count": 45,
   "id": "d5509368-b462-4f09-9099-ff56d30db65d",
   "metadata": {},
   "outputs": [],
   "source": [
    "from pyspark.sql.functions import expr\n",
    "scored = parsed.fillna(0, subset=good_features).\\\n",
    "                withColumn('score', expr(sum_expression)).\\\n",
    "                select('score', 'is_match')"
   ]
  },
  {
   "cell_type": "code",
   "execution_count": 46,
   "id": "329a498d-256a-49ce-b05e-19979b7acd6d",
   "metadata": {},
   "outputs": [
    {
     "name": "stdout",
     "output_type": "stream",
     "text": [
      "+-----+--------+\n",
      "|score|is_match|\n",
      "+-----+--------+\n",
      "|  5.0|    true|\n",
      "|  5.0|    true|\n",
      "|  5.0|    true|\n",
      "|  5.0|    true|\n",
      "|  5.0|    true|\n",
      "|  5.0|    true|\n",
      "|  4.0|    true|\n",
      "|  5.0|    true|\n",
      "|  5.0|    true|\n",
      "|  5.0|    true|\n",
      "|  5.0|    true|\n",
      "|  5.0|    true|\n",
      "|  5.0|    true|\n",
      "|  5.0|    true|\n",
      "|  5.0|    true|\n",
      "|  5.0|    true|\n",
      "|  4.0|    true|\n",
      "|  5.0|    true|\n",
      "|  5.0|    true|\n",
      "|  5.0|    true|\n",
      "+-----+--------+\n",
      "only showing top 20 rows\n",
      "\n"
     ]
    }
   ],
   "source": [
    "scored.show()"
   ]
  },
  {
   "cell_type": "code",
   "execution_count": 47,
   "id": "a34a18c0-211a-40ee-a681-629ad697e3cf",
   "metadata": {},
   "outputs": [],
   "source": [
    "def crossTabs(scored: DataFrame, t: DoubleType) -> DataFrame:\n",
    "    return scored.selectExpr(f'score >= {t} as above', 'is_match').\\\n",
    "           groupBy('above').pivot('is_match', ('true','false')).\\\n",
    "           count()"
   ]
  },
  {
   "cell_type": "code",
   "execution_count": 48,
   "id": "adba8965-66a8-4b32-81ea-02fcbe59c877",
   "metadata": {},
   "outputs": [
    {
     "name": "stdout",
     "output_type": "stream",
     "text": [
      "+-----+-----+-------+\n",
      "|above| true|  false|\n",
      "+-----+-----+-------+\n",
      "| true|20871|    637|\n",
      "|false|   60|5727564|\n",
      "+-----+-----+-------+\n",
      "\n"
     ]
    }
   ],
   "source": [
    "crossTabs(scored, 4.0).show()"
   ]
  },
  {
   "cell_type": "code",
   "execution_count": 49,
   "id": "0291da09-25f9-45bd-bbd1-b18659b059dd",
   "metadata": {},
   "outputs": [
    {
     "name": "stdout",
     "output_type": "stream",
     "text": [
      "+-----+-----+-------+\n",
      "|above| true|  false|\n",
      "+-----+-----+-------+\n",
      "| true|20931| 596414|\n",
      "|false| NULL|5131787|\n",
      "+-----+-----+-------+\n",
      "\n"
     ]
    }
   ],
   "source": [
    "crossTabs(scored, 2.0).show()"
   ]
  }
 ],
 "metadata": {
  "kernelspec": {
   "display_name": "Python 3 (ipykernel)",
   "language": "python",
   "name": "python3"
  },
  "language_info": {
   "codemirror_mode": {
    "name": "ipython",
    "version": 3
   },
   "file_extension": ".py",
   "mimetype": "text/x-python",
   "name": "python",
   "nbconvert_exporter": "python",
   "pygments_lexer": "ipython3",
   "version": "3.11.8"
  }
 },
 "nbformat": 4,
 "nbformat_minor": 5
}
